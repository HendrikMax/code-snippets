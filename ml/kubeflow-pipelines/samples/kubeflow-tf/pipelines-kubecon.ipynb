{
 "cells": [
  {
   "cell_type": "markdown",
   "metadata": {},
   "source": [
    "# KubeFlow Pipeline: Github Issue Summarization using Tensor2Tensor\n",
    "\n",
    "In this notebook, we will show how to:\n",
    "\n",
    "* Interactively define a KubeFlow Pipeline using the Pipelines Python SDK\n",
    "* Submit and run the pipeline\n",
    "* Add a step in the pipeline\n",
    "\n",
    "This example pipeline trains a [Tensor2Tensor](https://github.com/tensorflow/tensor2tensor/) model on Github issue data, learning to predict issue titles from issue bodies. It then exports the trained model and deploys the exported model to [Tensorflow Serving](https://github.com/tensorflow/serving). \n",
    "The final step in the pipeline launches a web app which interacts with the TF-Serving instance in order to get model predictions."
   ]
  },
  {
   "cell_type": "markdown",
   "metadata": {},
   "source": [
    "## Setup"
   ]
  },
  {
   "cell_type": "code",
   "execution_count": null,
   "metadata": {
    "scrolled": false
   },
   "outputs": [],
   "source": [
    "# Install the Pipeline SDK and the Kubernetes client libraries\n",
    "!pip3 install https://storage.googleapis.com/ml-pipeline/release/0.1.3-rc.3/kfp.tar.gz --upgrade\n",
    "!pip3 install kubernetes"
   ]
  },
  {
   "cell_type": "markdown",
   "metadata": {},
   "source": [
    "Do some imports and set some variables.  Set the `WORKING_DIR` to a path under the Cloud Storage bucket you created earlier."
   ]
  },
  {
   "cell_type": "code",
   "execution_count": null,
   "metadata": {},
   "outputs": [],
   "source": [
    "import kfp\n",
    "from kfp import compiler\n",
    "import kfp.dsl as dsl\n",
    "import kfp.notebook\n",
    "\n",
    "# Set your output and project. !!!Must do before you can proceed!!!\n",
    "WORKING_DIR = 'gs://aju-dev-demos-pipelines/t2t2/notebooks' # Such as gs://bucket/object/path\n",
    "PROJECT_NAME = 'YOUR_PROJECT'\n",
    "GITHUB_TOKEN = 'YOUR_GITHUB_TOKEN'  # needed for prediction, to grab issue data from GH"
   ]
  },
  {
   "cell_type": "markdown",
   "metadata": {},
   "source": [
    "## Create an *Experiment* in the Kubeflow Pipeline System\n",
    "\n",
    "The Kubeflow Pipeline system requires an \"Experiment\" to group pipeline runs. You can create a new experiment, or call `client.list_experiments()` to get existing ones."
   ]
  },
  {
   "cell_type": "code",
   "execution_count": null,
   "metadata": {},
   "outputs": [],
   "source": [
    "# Note that this notebook should be running in JupyterHub in the same cluster as the pipeline system.\n",
    "# Otherwise it will fail to talk to the pipeline system.\n",
    "client = kfp.Client()\n",
    "client.list_experiments()"
   ]
  },
  {
   "cell_type": "code",
   "execution_count": null,
   "metadata": {},
   "outputs": [],
   "source": [
    "exp = client.create_experiment(name='datagen_notebook')"
   ]
  },
  {
   "cell_type": "markdown",
   "metadata": {},
   "source": [
    "## Define a Pipeline\n",
    "\n",
    "Authoring a pipeline is like authoring a normal Python function. The pipeline function describes the topology of the pipeline. \n",
    "\n",
    "Each step in the pipeline is typically a `ContainerOp` --- a simple class or function describing how to interact with a docker container image. In the pipeline, all the container images referenced in the pipeline are already built. \n",
    "\n",
    "The pipeline starts by training a [Tensor2Tensor](https://github.com/tensorflow/tensor2tensor/) model, using already-preprocessed data. (More accurately, this step starts from an existing model checkpoint, then trains for a few more hundred steps).  When it finishes, it exports the model in a form suitable for serving by [TensorFlow serving](https://github.com/tensorflow/serving/).\n",
    "\n",
    "The next step deploys a TF-serving instance with that model.\n",
    "\n",
    "The last step launches a web app with which you can interact with the TF-serving instance to get model predictions."
   ]
  },
  {
   "cell_type": "code",
   "execution_count": null,
   "metadata": {},
   "outputs": [],
   "source": [
    "import kfp.dsl as dsl\n",
    "\n",
    "@dsl.pipeline(\n",
    "  name='Github issue summarization',\n",
    "  description='Demonstrate TFT-based feature processing, TFMA, TFJob, CMLE OP, and TF-Serving'\n",
    ")\n",
    "def gh_summ(\n",
    "  train_steps: dsl.PipelineParam=dsl.PipelineParam(name='train-steps', value=2019300),\n",
    "  project: dsl.PipelineParam=dsl.PipelineParam(name='project', value='YOUR_PROJECT_HERE'),\n",
    "  github_token: dsl.PipelineParam=dsl.PipelineParam(name='github-token', value='YOUR_GITHUB_TOKEN_HERE'),\n",
    "  working_dir: dsl.PipelineParam=dsl.PipelineParam(name='working-dir', value='YOUR_GCS_DIR_HERE'),\n",
    "  checkpoint_dir: dsl.PipelineParam=dsl.PipelineParam(name='checkpoint-dir', value='gs://aju-dev-demos-codelabs/kubecon/model_output_tbase.bak2019000'),\n",
    "  data_dir: dsl.PipelineParam=dsl.PipelineParam(name='data-dir', value='gs://aju-dev-demos-codelabs/kubecon/t2t_data_gh_all/')):\n",
    "\n",
    "\n",
    "  train = dsl.ContainerOp(\n",
    "      name = 'train',\n",
    "      image = 'gcr.io/google-samples/ml-pipeline-t2ttrain',\n",
    "      arguments = [ \"--data-dir\", data_dir,\n",
    "          \"--checkpoint-dir\", checkpoint_dir,\n",
    "          \"--model-dir\", '%s/%s/model_output' % (working_dir, '{{workflow.name}}'),\n",
    "          \"--train-steps\", train_steps]\n",
    "      )\n",
    "\n",
    "  serve = dsl.ContainerOp(\n",
    "      name = 'serve',\n",
    "      image = 'gcr.io/google-samples/ml-pipeline-kubeflow-tfserve',\n",
    "      arguments = [\"--model_name\", 'ghsumm-%s' % ('{{workflow.name}}',),\n",
    "          \"--model_path\", '%s/%s/model_output/export' % (working_dir, '{{workflow.name}}')\n",
    "          ]\n",
    "      )\n",
    "  serve.after(train)\n",
    "  train.set_gpu_limit(4)\n",
    "\n",
    "  webapp = dsl.ContainerOp(\n",
    "      name = 'webapp',\n",
    "      image = 'gcr.io/google-samples/ml-pipeline-webapp-launcher',\n",
    "      arguments = [\"--model_name\", 'ghsumm-%s' % ('{{workflow.name}}',),\n",
    "          \"--github_token\", github_token]\n",
    "\n",
    "      )\n",
    "  webapp.after(serve)"
   ]
  },
  {
   "cell_type": "markdown",
   "metadata": {},
   "source": [
    "## Submit an experiment *run*"
   ]
  },
  {
   "cell_type": "code",
   "execution_count": null,
   "metadata": {},
   "outputs": [],
   "source": [
    "compiler.Compiler().compile(gh_summ,  'ghsumm.tar.gz')"
   ]
  },
  {
   "cell_type": "markdown",
   "metadata": {},
   "source": [
    "The call below will run the compiled pipeline.  We won't actually do that now, but instead we'll add a new step to the pipeline, then run it."
   ]
  },
  {
   "cell_type": "code",
   "execution_count": null,
   "metadata": {},
   "outputs": [],
   "source": [
    "# You'd uncomment this call to actually run the pipeline. \n",
    "# run = client.run_pipeline(exp.id, 'ghsumm', 'ghsumm.tar.gz',\n",
    "#                           params={'working-dir': WORKING_DIR,\n",
    "#                                   'github-token': GITHUB_TOKEN,\n",
    "#                                   'project': PROJECT_NAME})"
   ]
  },
  {
   "cell_type": "markdown",
   "metadata": {},
   "source": [
    "## Add a step to the pipeline\n",
    "\n",
    "Next, let's add a new step to the pipeline above.  As currently defined, the pipeline accesses a directory of pre-processed data as input to training.  Let's see how we could include the pre-processing as part of the pipeline. \n",
    "\n",
    "We're going to cheat a bit, as processing the full dataset will take too long for this workshop, so we'll use a smaller sample. For that reason, you won't actually make use of the generated data from this step (we'll stick to using the full dataset for training), but this shows how you could do so if we had more time."
   ]
  },
  {
   "cell_type": "markdown",
   "metadata": {},
   "source": [
    "First, define a utility wrapper function that will give our new pipeline step the necessary permissions, based on how the Kubeflow installation was set up."
   ]
  },
  {
   "cell_type": "code",
   "execution_count": null,
   "metadata": {},
   "outputs": [],
   "source": [
    "from typing import Dict\n",
    "import kfp.dsl as dsl\n",
    "from kubernetes import client as k8s_client\n",
    "\n",
    "def default_gcp_op(name: str, image: str, command: str = None,\n",
    "           arguments: str = None, file_inputs: Dict[dsl.PipelineParam, str] = None,\n",
    "           file_outputs: Dict[str, str] = None, is_exit_handler=False):\n",
    "  \"\"\"An operator that mounts the default GCP service account to the container.\n",
    "  The user-gcp-sa secret is created as part of the kubeflow deployment that\n",
    "  stores the access token for kubeflow user service account.\n",
    "  With this service account, the container has a range of GCP APIs to\n",
    "  access to. This service account is automatically created as part of the\n",
    "  kubeflow deployment.\n",
    "  If you want to call the GCP APIs in a different project, grant the kf-user\n",
    "  service account access permission.\n",
    "  \"\"\"\n",
    "\n",
    "  return (\n",
    "    dsl.ContainerOp(\n",
    "      name,\n",
    "      image,\n",
    "      command,\n",
    "      arguments,\n",
    "      file_inputs,\n",
    "      file_outputs,\n",
    "      is_exit_handler,\n",
    "    )\n",
    "      .add_volume(\n",
    "      k8s_client.V1Volume(\n",
    "        name='gcp-credentials',\n",
    "        secret=k8s_client.V1SecretVolumeSource(\n",
    "          secret_name='user-gcp-sa'\n",
    "        )\n",
    "      )\n",
    "    )\n",
    "      .add_volume_mount(\n",
    "      k8s_client.V1VolumeMount(\n",
    "        mount_path='/secret/gcp-credentials',\n",
    "        name='gcp-credentials',\n",
    "      )\n",
    "    )\n",
    "      .add_env_variable(\n",
    "      k8s_client.V1EnvVar(\n",
    "        name='GOOGLE_APPLICATION_CREDENTIALS',\n",
    "        value='/secret/gcp-credentials/user-gcp-sa.json'\n",
    "      )\n",
    "    )\n",
    "  )"
   ]
  },
  {
   "cell_type": "markdown",
   "metadata": {},
   "source": [
    "Next, define a wrapper for the new op, which we'll call `preproc_op`, that makes use of `default_gcp_op`."
   ]
  },
  {
   "cell_type": "code",
   "execution_count": 18,
   "metadata": {},
   "outputs": [],
   "source": [
    "def preproc_op(data_dir, project):\n",
    "  return default_gcp_op(\n",
    "    name='datagen',\n",
    "    image='gcr.io/google-samples/ml-pipeline-t2tproc',\n",
    "    arguments=[ \"--data-dir\", data_dir, \"--project\", project]\n",
    "  )"
   ]
  },
  {
   "cell_type": "markdown",
   "metadata": {},
   "source": [
    "### Modify the pipeline to add the new step\n",
    "\n",
    "Now, we'll redefine the pipeline to add the new step."
   ]
  },
  {
   "cell_type": "code",
   "execution_count": null,
   "metadata": {},
   "outputs": [],
   "source": [
    "# Then define a new Pipeline. It's almost the same as the original one, \n",
    "# but with the addition of the data processing step.\n",
    "import kfp.dsl as dsl\n",
    "\n",
    "@dsl.pipeline(\n",
    "  name='Github issue summarization',\n",
    "  description='Demonstrate TFT-based feature processing, TFMA, TFJob, CMLE OP, and TF-Serving'\n",
    ")\n",
    "def gh_summ2(\n",
    "  train_steps: dsl.PipelineParam=dsl.PipelineParam(name='train-steps', value=2019300),\n",
    "  project: dsl.PipelineParam=dsl.PipelineParam(name='project', value='YOUR_PROJECT_HERE'),\n",
    "  github_token: dsl.PipelineParam=dsl.PipelineParam(name='github-token', value='YOUR_GITHUB_TOKEN_HERE'),\n",
    "  working_dir: dsl.PipelineParam=dsl.PipelineParam(name='working-dir', value='YOUR_GCS_DIR_HERE'),\n",
    "  checkpoint_dir: dsl.PipelineParam=dsl.PipelineParam(name='checkpoint-dir', value='gs://aju-dev-demos-codelabs/kubecon/model_output_tbase.bak2019000'),\n",
    "  data_dir: dsl.PipelineParam=dsl.PipelineParam(name='data-dir', value='gs://aju-dev-demos-codelabs/kubecon/t2t_data_gh_all/')):\n",
    "\n",
    "  # The new pre-processing op.\n",
    "  preproc = preproc_op(project=project,\n",
    "      data_dir=('%s/%s/gh_data' % (working_dir, '{{workflow.name}}')))\n",
    "\n",
    "  train = dsl.ContainerOp(\n",
    "      name = 'train',\n",
    "      image = 'gcr.io/google-samples/ml-pipeline-t2ttrain',\n",
    "      arguments = [ \"--data-dir\", data_dir,\n",
    "          \"--checkpoint-dir\", checkpoint_dir,\n",
    "          \"--model-dir\", '%s/%s/model_output' % (working_dir, '{{workflow.name}}'),\n",
    "          \"--train-steps\", train_steps]\n",
    "      )\n",
    "  train.after(preproc)\n",
    "\n",
    "  serve = dsl.ContainerOp(\n",
    "      name = 'serve',\n",
    "      image = 'gcr.io/google-samples/ml-pipeline-kubeflow-tfserve',\n",
    "      arguments = [\"--model_name\", 'ghsumm-%s' % ('{{workflow.name}}',),\n",
    "          \"--model_path\", '%s/%s/model_output/export' % (working_dir, '{{workflow.name}}')\n",
    "          ]\n",
    "      )\n",
    "  serve.after(train)\n",
    "  train.set_gpu_limit(4)\n",
    "\n",
    "  webapp = dsl.ContainerOp(\n",
    "      name = 'webapp',\n",
    "      image = 'gcr.io/google-samples/ml-pipeline-webapp-launcher',\n",
    "      arguments = [\"--model_name\", 'ghsumm-%s' % ('{{workflow.name}}',),\n",
    "          \"--github_token\", github_token]\n",
    "\n",
    "      )\n",
    "  webapp.after(serve)    \n"
   ]
  },
  {
   "cell_type": "markdown",
   "metadata": {},
   "source": [
    "### Compile the new pipeline definition and submit the run"
   ]
  },
  {
   "cell_type": "code",
   "execution_count": null,
   "metadata": {},
   "outputs": [],
   "source": [
    "compiler.Compiler().compile(gh_summ2,  'ghsumm2.tar.gz')"
   ]
  },
  {
   "cell_type": "code",
   "execution_count": null,
   "metadata": {},
   "outputs": [],
   "source": [
    "run = client.run_pipeline(exp.id, 'ghsumm2', 'ghsumm2.tar.gz',\n",
    "                          params={'working-dir': WORKING_DIR,\n",
    "                                  'project': PROJECT_NAME})"
   ]
  },
  {
   "cell_type": "markdown",
   "metadata": {},
   "source": [
    "When this new pipeline finishes running, you'll be able to see your generated processed data files in GCS under the path: `WORKING_DIR/<pipeline_name>/gh_data`. There isn't time in the workshop to pre-process the full dataset, but if there had been, we could have defined our pipeline to read from that generated directory for its training input."
   ]
  },
  {
   "cell_type": "markdown",
   "metadata": {},
   "source": [
    "Copyright 2018 Google LLC\n",
    "\n",
    "Licensed under the Apache License, Version 2.0 (the \"License\");\n",
    "you may not use this file except in compliance with the License.\n",
    "You may obtain a copy of the License at\n",
    "\n",
    "     http://www.apache.org/licenses/LICENSE-2.0\n",
    "\n",
    "Unless required by applicable law or agreed to in writing, software\n",
    "distributed under the License is distributed on an \"AS IS\" BASIS,\n",
    "WITHOUT WARRANTIES OR CONDITIONS OF ANY KIND, either express or implied.\n",
    "See the License for the specific language governing permissions and\n",
    "limitations under the License."
   ]
  }
 ],
 "metadata": {
  "kernelspec": {
   "display_name": "Python 3",
   "language": "python",
   "name": "python3"
  },
  "language_info": {
   "codemirror_mode": {
    "name": "ipython",
    "version": 3
   },
   "file_extension": ".py",
   "mimetype": "text/x-python",
   "name": "python",
   "nbconvert_exporter": "python",
   "pygments_lexer": "ipython3",
   "version": "3.6.4"
  }
 },
 "nbformat": 4,
 "nbformat_minor": 2
}
